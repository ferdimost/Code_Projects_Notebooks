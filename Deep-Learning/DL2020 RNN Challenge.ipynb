{
 "cells": [
  {
   "cell_type": "markdown",
   "metadata": {},
   "source": [
    "# Recurrent Neuronal Networks; LSTM"
   ]
  },
  {
   "cell_type": "code",
   "execution_count": 1,
   "metadata": {},
   "outputs": [
    {
     "name": "stdout",
     "output_type": "stream",
     "text": [
      "['data_x', 'data_y', 'val_x', 'val_y', 'test_x']\n",
      "[(400,), (400,), (100,), (100,), (250,)]\n"
     ]
    }
   ],
   "source": [
    "import numpy as np\n",
    "\n",
    "with np.load('rnn-challenge-data.npz') as f:\n",
    "    print(list(f.keys()))\n",
    "    data_x = f[\"data_x\"]\n",
    "    data_y = f[\"data_y\"]\n",
    "    val_x = f[\"val_x\"]\n",
    "    val_y = f[\"val_y\"]\n",
    "    test_x = f[\"test_x\"]\n",
    "\n",
    "print([each.shape for each in [data_x, data_y, val_x, val_y, test_x]])"
   ]
  },
  {
   "cell_type": "code",
   "execution_count": 5,
   "metadata": {},
   "outputs": [],
   "source": [
    "import torch\n",
    "from torch import nn\n",
    "import matplotlib.pyplot as plt\n",
    "from tqdm.notebook import tqdm"
   ]
  },
  {
   "cell_type": "code",
   "execution_count": 7,
   "metadata": {},
   "outputs": [
    {
     "data": {
      "application/vnd.jupyter.widget-view+json": {
       "model_id": "b7d1bddb3b744082aae680b126528702",
       "version_major": 2,
       "version_minor": 0
      },
      "text/plain": [
       "HBox(children=(FloatProgress(value=0.0, max=5.0), HTML(value='')))"
      ]
     },
     "metadata": {},
     "output_type": "display_data"
    },
    {
     "name": "stdout",
     "output_type": "stream",
     "text": [
      "\n"
     ]
    }
   ],
   "source": [
    "torch.manual_seed(0)\n",
    "\n",
    "device = torch.device(\"cuda\" if torch.cuda.is_available() else \"cpu\")\n",
    " \n",
    "\n",
    "def one_hot_encode(seq: str, vocab: [str]):\n",
    "    eye = np.eye(4)\n",
    "    return np.array([eye[vocab.index(char)] for char in seq])\n",
    "\n",
    "\n",
    "class Dataset(torch.utils.data.Dataset):\n",
    "    def __init__(self, data_x, data_y, vocab):\n",
    "        self.x = np.array([one_hot_encode(seq, vocab) for seq in data_x], dtype=np.float32)\n",
    "        #eye = np.eye(5)\n",
    "        self.y = data_y  # np.array([eye[c] for c in data_y], dtype=np.float32)\n",
    "\n",
    "    def __getitem__(self, index):\n",
    "        return self.x[index], self.y[index]\n",
    "    \n",
    "    def __len__(self):\n",
    "        return self.x.shape[0]\n",
    "\n",
    "\n",
    "class LSTMCharRNN(nn.Module):\n",
    "    def __init__(self, vocab, n_classes, n_hidden=256, n_layers=2,\n",
    "                 drop_prob=0.5, lr=0.001):\n",
    "        super().__init__()\n",
    "        self.n_layers = n_layers\n",
    "        self.n_hidden = n_hidden\n",
    "        self.lr = lr\n",
    "        self.vocab = vocab\n",
    "        self.rnn = nn.LSTM(input_size=len(vocab), hidden_size=n_hidden,\n",
    "                           num_layers=n_layers, batch_first=True)\n",
    "        self.fc = nn.Linear(n_hidden, n_classes)\n",
    "        self.dropout = nn.Dropout(p=drop_prob)\n",
    "\n",
    "    def forward(self, x, hidden):\n",
    "        '''x is the input and `hidden` is the hidden/cell state .'''\n",
    "        hidden_t = [self.dropout(h) for h in hidden]\n",
    "        x = x.to(device)\n",
    "        out, hidden_t = self.rnn(x, hidden_t)\n",
    "        return self.fc(out), hidden_t\n",
    "\n",
    "    def init_hidden(self, batch_size):\n",
    "        ''' Initializes hidden state '''\n",
    "        return torch.zeros(2, self.n_layers, batch_size, self.n_hidden)\n",
    "\n",
    "def stretch_flat(tensor, times):\n",
    "    assert len(tensor.shape) == 1\n",
    "    return tensor.unsqueeze(0).repeat(times,1).T.flatten()\n",
    "\n",
    "def train(\n",
    "    lr = 0.001,\n",
    "    epochs = 1\n",
    "):\n",
    "    seq_length = 400\n",
    "    val_seq_length = 1200\n",
    "    vocab = [\"A\", \"C\", \"G\", \"T\"]\n",
    "    n_classes = 5\n",
    "    model = LSTMCharRNN(vocab=vocab, n_classes=n_classes, n_layers=1, drop_prob=0.0)\n",
    "\n",
    "    batch_size = 20\n",
    "    trainloader = torch.utils.data.DataLoader(Dataset(data_x, data_y, vocab), batch_size=batch_size, shuffle=True)\n",
    "    val_batch_size = 100\n",
    "    val_loader = torch.utils.data.DataLoader(Dataset(val_x, val_y, vocab), batch_size=val_batch_size, shuffle=False)\n",
    "\n",
    "    losses = []\n",
    "    val_losses = []\n",
    "    accuracy = []\n",
    "    train_accuracy = []\n",
    "\n",
    "    opt = torch.optim.Adam(model.parameters(), lr=lr)\n",
    "    criterion = nn.CrossEntropyLoss()\n",
    "\n",
    "    model.to(device)\n",
    "\n",
    "    def train():\n",
    "        model.train()\n",
    "        for data, label in trainloader:\n",
    "            h = model.init_hidden(batch_size)\n",
    "            h = tuple([each.data for each in h])\n",
    "            data = data.to(device)\n",
    "            label = label.to(device)\n",
    "            model.zero_grad()\n",
    "            output, h = model(data, h)\n",
    "            loss = criterion(output.view(-1, n_classes), stretch_flat(label, times=seq_length))\n",
    "            loss.backward()\n",
    "            # `clip_grad_norm` helps prevent the exploding gradient problem in RNNs / LSTMs.\n",
    "            nn.utils.clip_grad_norm_(model.parameters(), 5)\n",
    "            opt.step()\n",
    "            losses.append(loss.item())\n",
    "\n",
    "    def evaluate():\n",
    "        model.eval()\n",
    "        with torch.no_grad():\n",
    "            for data, label in val_loader:\n",
    "                h = model.init_hidden(val_batch_size)\n",
    "                h = tuple([each.data for each in h])\n",
    "                data = data.to(device)\n",
    "                label = label.to(device)\n",
    "                output, h = model(data, h)\n",
    "                loss = criterion(output.view(-1, n_classes), stretch_flat(label, times=val_seq_length))\n",
    "                val_losses.append(loss.item())\n",
    "\n",
    "                output = nn.LogSoftmax(dim=0)(output)\n",
    "                sums = output.sum(axis=1)\n",
    "                pred = sums.max(axis=1).indices\n",
    "                accuracy.append(len((pred == label).nonzero()) / len(pred))\n",
    "\n",
    "    def train_acc():\n",
    "        model.eval()\n",
    "        train_acc = 0\n",
    "        with torch.no_grad():\n",
    "            for data, label in trainloader:\n",
    "                h = model.init_hidden(batch_size)\n",
    "                h = tuple([each.data for each in h])\n",
    "                data = data.to(device)\n",
    "                label = label.to(device)\n",
    "                output, h = model(data, h)\n",
    "                output = nn.LogSoftmax(dim=0)(output)\n",
    "                sums = output.sum(axis=1)\n",
    "                pred = sums.max(axis=1).indices\n",
    "                train_acc += len((pred == label).nonzero())\n",
    "            train_accuracy.append(train_acc / len(data_x))\n",
    "\n",
    "    evaluate()\n",
    "    train_acc()\n",
    "    for e in tqdm(range(epochs)):\n",
    "        train()\n",
    "        evaluate()\n",
    "        train_acc()\n",
    "\n",
    "    return losses, val_losses, accuracy, train_accuracy, model\n",
    "\n",
    "epochs = 5\n",
    "losses, val_losses, accuracy, train_accuracy, model = train(epochs=epochs)"
   ]
  },
  {
   "cell_type": "code",
   "execution_count": 8,
   "metadata": {},
   "outputs": [
    {
     "data": {
      "image/png": "[encoded data removed]",
      "text/plain": [
       "<Figure size 432x288 with 1 Axes>"
      ]
     },
     "metadata": {
      "needs_background": "light"
     },
     "output_type": "display_data"
    },
    {
     "data": {
      "image/png": "[encoded data removed]",
      "text/plain": [
       "<Figure size 432x288 with 1 Axes>"
      ]
     },
     "metadata": {
      "needs_background": "light"
     },
     "output_type": "display_data"
    },
    {
     "name": "stdout",
     "output_type": "stream",
     "text": [
      "1.0\n"
     ]
    }
   ],
   "source": [
    "plt.plot(losses, label=\"loss\")\n",
    "plt.plot(list(range(0, len(losses)+1, len(losses)//epochs)), val_losses, label=\"val loss\")\n",
    "#plt.plot(list(range(0, len(losses)+1, len(losses)//epochs)), accuracy, label=\"accuracy\")\n",
    "plt.legend()\n",
    "#plt.ylim(bottom=0)\n",
    "plt.show()\n",
    "plt.plot(accuracy, label=\"accuracy\")\n",
    "#plt.ylim(top=1,bottom=0)\n",
    "#plt.legend()\n",
    "#plt.show()\n",
    "plt.plot(train_accuracy, label=\"train_accuracy\")\n",
    "plt.ylim(top=1,bottom=0)\n",
    "plt.legend()\n",
    "plt.show()\n",
    "print(accuracy[-1])"
   ]
  },
  {
   "cell_type": "code",
   "execution_count": 5,
   "metadata": {},
   "outputs": [],
   "source": [
    "def predict():\n",
    "    vocab = [\"A\", \"C\", \"G\", \"T\"]\n",
    "    test_batch_size = 250\n",
    "    test_seq_length = 2000\n",
    "    test_loader = torch.utils.data.DataLoader(\n",
    "        Dataset(test_x, np.zeros((250,)), vocab),\n",
    "        batch_size=test_batch_size,\n",
    "        shuffle=False\n",
    "    )\n",
    "    model.eval()\n",
    "    test_losses = []\n",
    "    with torch.no_grad():\n",
    "        for data, label in test_loader:\n",
    "            h = model.init_hidden(test_batch_size)\n",
    "            h = tuple([each.data for each in h])\n",
    "            data = data.to(device)\n",
    "            label = label.to(device)\n",
    "            output, h = model(data, h)\n",
    "            output = nn.LogSoftmax(dim=0)(output)\n",
    "            sums = output.sum(axis=1)\n",
    "            pred = sums.max(axis=1).indices\n",
    "            pred = pred.numpy()\n",
    "            assert pred.shape == (250,)\n",
    "            return pred\n",
    "\n",
    "prediction = predict()\n",
    "np.save('prediction.npy', prediction)"
   ]
  },
  {
   "cell_type": "code",
   "execution_count": 6,
   "metadata": {},
   "outputs": [
    {
     "data": {
      "text/plain": [
       "(250,)"
      ]
     },
     "execution_count": 6,
     "metadata": {},
     "output_type": "execute_result"
    }
   ],
   "source": [
    "prediction.shape"
   ]
  }
 ],
 "metadata": {
  "kernelspec": {
   "display_name": "Python 3.8.10 64-bit",
   "language": "python",
   "name": "python3"
  },
  "language_info": {
   "codemirror_mode": {
    "name": "ipython",
    "version": 3
   },
   "file_extension": ".py",
   "mimetype": "text/x-python",
   "name": "python",
   "nbconvert_exporter": "python",
   "pygments_lexer": "ipython3",
   "version": "3.8.10"
  },
  "vscode": {
   "interpreter": {
    "hash": "916dbcbb3f70747c44a77c7bcd40155683ae19c65e1c03b4aa3499c5328201f1"
   }
  }
 },
 "nbformat": 4,
 "nbformat_minor": 4
}
