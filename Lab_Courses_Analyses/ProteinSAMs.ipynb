{
 "cells": [
  {
   "cell_type": "code",
   "execution_count": 3,
   "metadata": {},
   "outputs": [],
   "source": [
    "import numpy as np\n",
    "import matplotlib.pyplot as plt\n",
    "%matplotlib inline\n",
    "import scipy.optimize as spo\n",
    "from numpy import trapz\n",
    "from scipy.integrate import simps"
   ]
  },
  {
   "cell_type": "code",
   "execution_count": 74,
   "metadata": {},
   "outputs": [],
   "source": [
    "data_free=np.loadtxt(\"EigFreq_air.txt\",skiprows=13)\n",
    "data_e_f_mua=np.loadtxt(\"MUA_Binding.txt\",skiprows=13)\n",
    "data_b_f_CCC=np.loadtxt(\"CytC_correct.txt\",skiprows=13)\n",
    "# 0 freq / 1 resistance / 2 delta F / 3 delta R / 4 delta M / 5 time(s) / 6 Tag"
   ]
  },
  {
   "cell_type": "code",
   "execution_count": 78,
   "metadata": {},
   "outputs": [],
   "source": [
    "def log(x,a,b,c,d):\n",
    "    return a*np.log(b*x-c)+d\n",
    "\n",
    "def e(x,a,b,c):\n",
    "    return a*np.exp(b*x)+c\n",
    "\n",
    "def linear(x,a,b):\n",
    "    return a*x+b"
   ]
  },
  {
   "cell_type": "code",
   "execution_count": 88,
   "metadata": {},
   "outputs": [
    {
     "name": "stdout",
     "output_type": "stream",
     "text": [
      "fit1 = [-3.23163326e-03  5.01530596e+06]\n",
      "5015305.962611439\n",
      "fit2 = [-2.07709681e-02  5.01460943e+06]\n"
     ]
    }
   ],
   "source": [
    "#fit=spo.curve_fit(log,data_free[100:,5],data_free[100:,0],[10,1000,-1,10])[0]\n",
    "fit=spo.curve_fit(linear,data_free[100:900,5],data_free[100:900,0],[0,5015300])\n",
    "print(\"fit1 =\",fit[0])\n",
    "print(fit[0][1])\n",
    "fit2=spo.curve_fit(linear,data_free[1050:1400,5],data_free[1050:1400,0],[0,5014600])\n",
    "print(\"fit2 =\",fit2[0])\n",
    "#print(fit[1])\n",
    "#fit=fit[0]\n"
   ]
  },
  {
   "cell_type": "code",
   "execution_count": 102,
   "metadata": {},
   "outputs": [
    {
     "data": {
      "image/png": "[encoded data removed]",
      "text/plain": [
       "<Figure size 432x288 with 1 Axes>"
      ]
     },
     "metadata": {
      "needs_background": "light"
     },
     "output_type": "display_data"
    }
   ],
   "source": [
    "plt.plot(data_free[:,5],data_free[:,0]/10**(6))\n",
    "#plt.plot(np.arange(10,1000),log(np.arange(10,1000),*fit))\n",
    "#plt.plot(np.arange(100,1500),linear(np.arange(100,1500),*fit))\n",
    "#plt.plot(np.arange(100,1500),linear(np.arange(100,1500),*fit2))\n",
    "plt.axhline(fit[0][1]/10**(6),linestyle='dashed',c='red',label='5.015305 MHz')\n",
    "plt.axhline((fit2[0][1]-25)/10**(6),linestyle='dashed',c='green',label='5.014584 MHz')\n",
    "plt.grid()\n",
    "plt.legend()\n",
    "#print(fit[2])\n",
    "plt.xlabel('time in sec',fontsize=16)\n",
    "plt.ylabel('eig-freq in MHz',fontsize=16)\n",
    "plt.savefig('air_ethanol_shift.pdf',bbox_inches=\"tight\",pad_inches=0.05)\n",
    "plt.show()"
   ]
  },
  {
   "cell_type": "markdown",
   "metadata": {},
   "source": [
    "### Voltamogramm"
   ]
  },
  {
   "cell_type": "code",
   "execution_count": 4,
   "metadata": {},
   "outputs": [],
   "source": [
    "data=[]\n",
    "for i in range(1,6):\n",
    "    data.append(np.loadtxt(str(i)+\".ocw\",skiprows=2))"
   ]
  },
  {
   "cell_type": "code",
   "execution_count": 5,
   "metadata": {},
   "outputs": [
    {
     "name": "stdout",
     "output_type": "stream",
     "text": [
      "[[-2.00042700e-01 -2.27838140e-07]\n",
      " [-1.97601300e-01 -2.09796160e-07]\n",
      " [-1.95159900e-01 -1.93841560e-07]\n",
      " [-1.92718500e-01 -1.84942640e-07]\n",
      " [-1.90277100e-01 -1.73730440e-07]\n",
      " [-1.87835700e-01 -1.66473400e-07]\n",
      " [-1.85394300e-01 -1.57727040e-07]\n",
      " [-1.82952900e-01 -1.51361080e-07]\n",
      " [-1.80511500e-01 -1.44183340e-07]\n",
      " [-1.78070100e-01 -1.37164300e-07]\n",
      " [-1.75628700e-01 -1.33654780e-07]\n",
      " [-1.73187300e-01 -1.26055900e-07]\n",
      " [-1.70745800e-01 -1.22027560e-07]\n",
      " [-1.68304400e-01 -1.16400180e-07]\n",
      " [-1.65863000e-01 -1.11987300e-07]\n",
      " [-1.63421600e-01 -1.07464612e-07]\n",
      " [-1.60980200e-01 -1.02752688e-07]\n",
      " [-1.58538800e-01 -1.00134292e-07]\n",
      " [-1.56097400e-01 -9.42688020e-08]\n",
      " [-1.53656000e-01 -9.35241640e-08]\n",
      " [-1.51214600e-01 -8.75183080e-08]\n",
      " [-1.48773200e-01 -8.56750500e-08]\n",
      " [-1.46331800e-01 -8.14819320e-08]\n",
      " [-1.43890400e-01 -7.77404780e-08]\n",
      " [-1.41449000e-01 -7.54638700e-08]\n",
      " [-1.39007600e-01 -7.11547840e-08]\n",
      " [-1.36566200e-01 -7.04589860e-08]\n",
      " [-1.34124800e-01 -6.51672360e-08]\n",
      " [-1.31683300e-01 -6.38977060e-08]\n",
      " [-1.29241900e-01 -5.88623040e-08]\n",
      " [-1.26800500e-01 -5.84533700e-08]\n",
      " [-1.24359100e-01 -5.49316420e-08]\n",
      " [-1.21917700e-01 -5.20751940e-08]\n",
      " [-1.19476300e-01 -5.13916020e-08]\n",
      " [-1.17034900e-01 -4.68749980e-08]\n",
      " [-1.14593500e-01 -4.67468260e-08]\n",
      " [-1.12152100e-01 -4.27612300e-08]\n",
      " [-1.09710700e-01 -4.22607420e-08]\n",
      " [-1.07269300e-01 -3.82629420e-08]\n",
      " [-1.04827900e-01 -3.48510740e-08]\n",
      " [-1.02386500e-01 -3.41125460e-08]\n",
      " [-9.99450700e-02 -3.01025380e-08]\n",
      " [-9.75036600e-02 -3.01147440e-08]\n",
      " [-9.50622600e-02 -2.80639640e-08]\n",
      " [-9.26208500e-02 -2.77771000e-08]\n",
      " [-9.01794400e-02 -2.30871600e-08]\n",
      " [-8.77380400e-02 -2.21801740e-08]\n",
      " [-8.52966300e-02 -1.94598380e-08]\n",
      " [-8.28552200e-02 -1.69616706e-08]\n",
      " [-8.04138200e-02 -1.70471194e-08]\n",
      " [-7.79724100e-02 -1.29016114e-08]\n",
      " [-7.55310100e-02 -1.32208250e-08]\n",
      " [-7.30896000e-02 -8.73535100e-09]\n",
      " [-7.06481900e-02 -8.33740224e-09]\n",
      " [-6.82067900e-02 -5.11840800e-09]\n",
      " [-6.57653800e-02 -3.91845800e-09]\n",
      " [-6.33239700e-02 -1.77123950e-09]\n",
      " [-6.08825700e-02  1.55334480e-09]\n",
      " [-5.84411600e-02  1.11633280e-09]\n",
      " [-5.59997600e-02  6.05468740e-09]\n",
      " [-5.35583500e-02  5.61828688e-09]\n",
      " [-5.11169400e-02  1.09429934e-08]\n",
      " [-4.86755400e-02  1.15295412e-08]\n",
      " [-4.62341300e-02  1.27441407e-08]\n",
      " [-4.37927200e-02  1.64733906e-08]\n",
      " [-4.13513200e-02  1.70349110e-08]\n",
      " [-3.89099100e-02  2.09472680e-08]\n",
      " [-3.64685100e-02  2.17956560e-08]\n",
      " [-3.40271000e-02  2.63366700e-08]\n",
      " [-3.15856900e-02  2.69836400e-08]\n",
      " [-2.91442900e-02  3.08715820e-08]\n",
      " [-2.67028800e-02  3.26843260e-08]\n",
      " [-2.42614700e-02  3.45275880e-08]\n",
      " [-2.18200700e-02  3.83728020e-08]\n",
      " [-1.93786600e-02  3.87878400e-08]\n",
      " [-1.69372600e-02  4.40307620e-08]\n",
      " [-1.44958500e-02  4.33593760e-08]\n",
      " [-1.20544400e-02  4.99511720e-08]\n",
      " [-9.61303700e-03  4.96948260e-08]\n",
      " [-7.17163100e-03  5.35522460e-08]\n",
      " [-4.73022500e-03  5.62988280e-08]\n",
      " [-2.28881800e-03  5.78186040e-08]\n",
      " [ 1.52587900e-04  6.20971660e-08]\n",
      " [ 2.59399400e-03  6.35070800e-08]\n",
      " [ 5.03540000e-03  6.83715840e-08]\n",
      " [ 7.47680700e-03  6.77551300e-08]\n",
      " [ 9.91821300e-03  7.22778300e-08]\n",
      " [ 1.23596200e-02  7.45849600e-08]\n",
      " [ 1.48010300e-02  7.65441900e-08]\n",
      " [ 1.72424300e-02  7.95837420e-08]\n",
      " [ 1.96838400e-02  7.99621580e-08]\n",
      " [ 2.21252400e-02  8.52050760e-08]\n",
      " [ 2.45666500e-02  8.44604520e-08]\n",
      " [ 2.70080600e-02  8.90930200e-08]\n",
      " [ 2.94494600e-02  8.93066400e-08]\n",
      " [ 3.18908700e-02  9.33654900e-08]\n",
      " [ 3.43322800e-02  9.36706520e-08]\n",
      " [ 3.67736800e-02  9.59716920e-08]\n",
      " [ 3.92150900e-02  9.91943340e-08]\n",
      " [ 4.16564900e-02  9.86755340e-08]\n",
      " [ 4.40979000e-02  1.02154550e-07]\n",
      " [ 4.65393100e-02  1.00671396e-07]\n",
      " [ 4.89807100e-02  1.04235848e-07]\n",
      " [ 5.14221200e-02  1.03344734e-07]\n",
      " [ 5.38635300e-02  1.05810526e-07]\n",
      " [ 5.63049300e-02  1.06500232e-07]\n",
      " [ 5.87463400e-02  1.06005866e-07]\n",
      " [ 6.11877400e-02  1.08972180e-07]\n",
      " [ 6.36291500e-02  1.06768820e-07]\n",
      " [ 6.60705600e-02  1.11016840e-07]\n",
      " [ 6.85119600e-02  1.07562260e-07]\n",
      " [ 7.09533700e-02  1.10559070e-07]\n",
      " [ 7.33947800e-02  1.10021960e-07]\n",
      " [ 7.58361800e-02  1.08837892e-07]\n",
      " [ 7.82775900e-02  1.10284420e-07]\n",
      " [ 8.07189900e-02  1.07861336e-07]\n",
      " [ 8.31604000e-02  1.10705560e-07]\n",
      " [ 8.56018100e-02  1.07843020e-07]\n",
      " [ 8.80432100e-02  1.11047350e-07]\n",
      " [ 9.04846200e-02  1.07055680e-07]\n",
      " [ 9.29260300e-02  1.09631354e-07]\n",
      " [ 9.53674300e-02  1.09179680e-07]\n",
      " [ 9.78088400e-02  1.07110596e-07]\n",
      " [ 1.00250200e-01  1.09136994e-07]\n",
      " [ 1.02691700e-01  1.05499260e-07]\n",
      " [ 1.05133100e-01  1.09228500e-07]\n",
      " [ 1.07574500e-01  1.05206280e-07]\n",
      " [ 1.10015900e-01  1.07427966e-07]\n",
      " [ 1.12457300e-01  1.04913326e-07]\n",
      " [ 1.14898700e-01  1.07110620e-07]\n",
      " [ 1.17340100e-01  1.06884770e-07]\n",
      " [ 1.19781500e-01  1.04260278e-07]\n",
      " [ 1.22222900e-01  1.06866448e-07]\n",
      " [ 1.24664300e-01  1.04010014e-07]\n",
      " [ 1.27105700e-01  1.06488026e-07]\n",
      " [ 1.29547100e-01  1.03204350e-07]\n",
      " [ 1.31988500e-01  1.05474852e-07]\n",
      " [ 1.34429900e-01  1.03552250e-07]\n",
      " [ 1.36871300e-01  1.04162604e-07]\n",
      " [ 1.39312700e-01  1.05377194e-07]\n",
      " [ 1.41754200e-01  1.03063966e-07]\n",
      " [ 1.44195600e-01  1.05950910e-07]\n",
      " [ 1.46637000e-01  1.01184074e-07]\n",
      " [ 1.49078400e-01  1.05883810e-07]\n",
      " [ 1.51519800e-01  1.02191158e-07]\n",
      " [ 1.53961200e-01  1.03375256e-07]\n",
      " [ 1.56402600e-01  1.03100558e-07]\n",
      " [ 1.58844000e-01  1.03057858e-07]\n",
      " [ 1.61285400e-01  1.04541032e-07]\n",
      " [ 1.63726800e-01  1.01245116e-07]\n",
      " [ 1.66168200e-01  1.04479988e-07]\n",
      " [ 1.68609600e-01  1.01416020e-07]\n",
      " [ 1.71051000e-01  1.05462658e-07]\n",
      " [ 1.73492400e-01  1.03369140e-07]\n",
      " [ 1.75933800e-01  1.04913338e-07]\n",
      " [ 1.78375200e-01  1.05664076e-07]\n",
      " [ 1.80816700e-01  1.03631592e-07]\n",
      " [ 1.83258100e-01  1.07116688e-07]\n",
      " [ 1.85699500e-01  1.03649900e-07]\n",
      " [ 1.88140900e-01  1.07592776e-07]\n",
      " [ 1.90582300e-01  1.04949950e-07]\n",
      " [ 1.93023700e-01  1.08276370e-07]\n",
      " [ 1.95465100e-01  1.06573496e-07]\n",
      " [ 1.97906500e-01  1.08142104e-07]\n",
      " [ 2.00347900e-01  1.09582520e-07]\n",
      " [ 1.97906500e-01  9.55261260e-08]\n",
      " [ 1.95465100e-01  9.20776260e-08]\n",
      " [ 1.93023700e-01  8.17993160e-08]\n",
      " [ 1.90582300e-01  8.11889640e-08]\n",
      " [ 1.88140900e-01  7.37670880e-08]\n",
      " [ 1.85699500e-01  7.10510260e-08]\n",
      " [ 1.83258100e-01  6.81396480e-08]\n",
      " [ 1.80816700e-01  6.32080100e-08]\n",
      " [ 1.78375200e-01  6.20483420e-08]\n",
      " [ 1.75933800e-01  5.63293440e-08]\n",
      " [ 1.73492400e-01  5.80749520e-08]\n",
      " [ 1.71051000e-01  5.10131800e-08]\n",
      " [ 1.68609600e-01  5.14831520e-08]\n",
      " [ 1.66168200e-01  4.70031720e-08]\n",
      " [ 1.63726800e-01  4.61364740e-08]\n",
      " [ 1.61285400e-01  4.44335940e-08]\n",
      " [ 1.58844000e-01  3.97033700e-08]\n",
      " [ 1.56402600e-01  4.14184580e-08]\n",
      " [ 1.53961200e-01  3.57177720e-08]\n",
      " [ 1.51519800e-01  3.79150380e-08]\n",
      " [ 1.49078400e-01  3.17504900e-08]\n",
      " [ 1.46637000e-01  3.35449220e-08]\n",
      " [ 1.44195600e-01  2.99987780e-08]\n",
      " [ 1.41754200e-01  2.77771000e-08]\n",
      " [ 1.39312700e-01  2.76245120e-08]\n",
      " [ 1.36871300e-01  2.24060060e-08]\n",
      " [ 1.34429900e-01  2.58911140e-08]\n",
      " [ 1.31988500e-01  1.84265120e-08]\n",
      " [ 1.29547100e-01  2.18505840e-08]\n",
      " [ 1.27105700e-01  1.53320320e-08]\n",
      " [ 1.24664300e-01  1.69311522e-08]\n",
      " [ 1.22222900e-01  1.43713366e-08]\n",
      " [ 1.19781500e-01  1.14990230e-08]\n",
      " [ 1.17340100e-01  1.15661618e-08]\n",
      " [ 1.14898700e-01  5.92651320e-09]\n",
      " [ 1.12457300e-01  9.29565420e-09]\n",
      " [ 1.10015900e-01  2.20336916e-09]\n",
      " [ 1.07574500e-01  3.98559498e-09]\n",
      " [ 1.05133100e-01 -8.48388800e-10]\n",
      " [ 1.02691700e-01 -3.55225040e-10]\n",
      " [ 1.00250200e-01 -2.13439920e-09]\n",
      " [ 9.78088400e-02 -6.33117620e-09]\n",
      " [ 9.53674300e-02 -5.85327220e-09]\n",
      " [ 9.29260300e-02 -1.26586934e-08]\n",
      " [ 9.04846200e-02 -1.13006580e-08]\n",
      " [ 8.80432100e-02 -1.66320796e-08]\n",
      " [ 8.56018100e-02 -1.67218010e-08]\n",
      " [ 8.31604000e-02 -2.05871600e-08]\n",
      " [ 8.07189900e-02 -2.35864220e-08]\n",
      " [ 7.82775900e-02 -2.44140600e-08]\n",
      " [ 7.58361800e-02 -2.99865720e-08]\n",
      " [ 7.33947800e-02 -2.86743160e-08]\n",
      " [ 7.09533700e-02 -3.63037120e-08]\n",
      " [ 6.85119600e-02 -3.52355960e-08]\n",
      " [ 6.60705600e-02 -4.21325660e-08]\n",
      " [ 6.36291500e-02 -4.35668960e-08]\n",
      " [ 6.11877400e-02 -4.70214840e-08]\n",
      " [ 5.87463400e-02 -5.23559560e-08]\n",
      " [ 5.63049300e-02 -5.25146480e-08]\n",
      " [ 5.38635300e-02 -5.86364760e-08]\n",
      " [ 5.14221200e-02 -5.82702620e-08]\n",
      " [ 4.89807100e-02 -6.58081040e-08]\n",
      " [ 4.65393100e-02 -6.53747560e-08]\n",
      " [ 4.40979000e-02 -6.97204620e-08]\n",
      " [ 4.16564900e-02 -7.40905740e-08]\n",
      " [ 3.92150900e-02 -7.49328620e-08]\n",
      " [ 3.67736800e-02 -7.98095700e-08]\n",
      " [ 3.43322800e-02 -7.95715340e-08]\n",
      " [ 3.18908700e-02 -8.78540060e-08]\n",
      " [ 2.94494600e-02 -8.60290520e-08]\n",
      " [ 2.70080600e-02 -9.23156740e-08]\n",
      " [ 2.45666500e-02 -9.18090740e-08]\n",
      " [ 2.21252400e-02 -9.53613200e-08]\n",
      " [ 1.96838400e-02 -9.72412280e-08]\n",
      " [ 1.72424300e-02 -9.82177740e-08]\n",
      " [ 1.48010300e-02 -1.02819838e-07]\n",
      " [ 1.23596200e-02 -1.00067120e-07]\n",
      " [ 9.91821300e-03 -1.06658940e-07]\n",
      " [ 7.47680700e-03 -1.04730220e-07]\n",
      " [ 5.03540000e-03 -1.08465592e-07]\n",
      " [ 2.59399400e-03 -1.09051500e-07]\n",
      " [ 1.52587900e-04 -1.09265120e-07]\n",
      " [-2.28881800e-03 -1.12347400e-07]\n",
      " [-4.73022500e-03 -1.11199960e-07]\n",
      " [-7.17163100e-03 -1.15582280e-07]\n",
      " [-9.61303700e-03 -1.11230460e-07]\n",
      " [-1.20544400e-02 -1.15997320e-07]\n",
      " [-1.44958500e-02 -1.13500980e-07]\n",
      " [-1.69372600e-02 -1.16577160e-07]\n",
      " [-1.93786600e-02 -1.16119400e-07]\n",
      " [-2.18200700e-02 -1.16027820e-07]\n",
      " [-2.42614700e-02 -1.18829340e-07]\n",
      " [-2.67028800e-02 -1.15814200e-07]\n",
      " [-2.91442900e-02 -1.20025620e-07]\n",
      " [-3.15856900e-02 -1.16448980e-07]\n",
      " [-3.40271000e-02 -1.20666480e-07]\n",
      " [-3.64685100e-02 -1.18756100e-07]\n",
      " [-3.89099100e-02 -1.20147700e-07]\n",
      " [-4.13513200e-02 -1.21588140e-07]\n",
      " [-4.37927200e-02 -1.19378660e-07]\n",
      " [-4.62341300e-02 -1.22430440e-07]\n",
      " [-4.86755400e-02 -1.19818100e-07]\n",
      " [-5.11169400e-02 -1.24139380e-07]\n",
      " [-5.35583500e-02 -1.20635980e-07]\n",
      " [-5.59997600e-02 -1.23559580e-07]\n",
      " [-5.84411600e-02 -1.23132320e-07]\n",
      " [-6.08825700e-02 -1.22607420e-07]\n",
      " [-6.33239700e-02 -1.25158700e-07]\n",
      " [-6.57653800e-02 -1.22729480e-07]\n",
      " [-6.82067900e-02 -1.27539080e-07]\n",
      " [-7.06481900e-02 -1.23577880e-07]\n",
      " [-7.30896000e-02 -1.27801520e-07]\n",
      " [-7.55310100e-02 -1.25158700e-07]\n",
      " [-7.79724100e-02 -1.27282700e-07]\n",
      " [-8.04138200e-02 -1.28436300e-07]\n",
      " [-8.28552200e-02 -1.27722160e-07]\n",
      " [-8.52966300e-02 -1.30786140e-07]\n",
      " [-8.77380400e-02 -1.27386480e-07]\n",
      " [-9.01794400e-02 -1.32586660e-07]\n",
      " [-9.26208500e-02 -1.29553240e-07]\n",
      " [-9.50622600e-02 -1.34161380e-07]\n",
      " [-9.75036600e-02 -1.33050540e-07]\n",
      " [-9.99450700e-02 -1.34759540e-07]\n",
      " [-1.02386500e-01 -1.36657720e-07]\n",
      " [-1.04827900e-01 -1.35223400e-07]\n",
      " [-1.07269300e-01 -1.39770520e-07]\n",
      " [-1.09710700e-01 -1.37274160e-07]\n",
      " [-1.12152100e-01 -1.42474360e-07]\n",
      " [-1.14593500e-01 -1.39263920e-07]\n",
      " [-1.17034900e-01 -1.43878160e-07]\n",
      " [-1.19476300e-01 -1.44818140e-07]\n",
      " [-1.21917700e-01 -1.45190460e-07]\n",
      " [-1.24359100e-01 -1.47662340e-07]\n",
      " [-1.26800500e-01 -1.46673580e-07]\n",
      " [-1.29241900e-01 -1.51269520e-07]\n",
      " [-1.31683300e-01 -1.50646960e-07]\n",
      " [-1.34124800e-01 -1.54626460e-07]\n",
      " [-1.36566200e-01 -1.54309080e-07]\n",
      " [-1.39007600e-01 -1.56726080e-07]\n",
      " [-1.41449000e-01 -1.59149200e-07]\n",
      " [-1.43890400e-01 -1.59649640e-07]\n",
      " [-1.46331800e-01 -1.64062500e-07]\n",
      " [-1.48773200e-01 -1.63677980e-07]\n",
      " [-1.51214600e-01 -1.68182360e-07]\n",
      " [-1.53656000e-01 -1.67498780e-07]\n",
      " [-1.56097400e-01 -1.72784440e-07]\n",
      " [-1.58538800e-01 -1.72802720e-07]\n",
      " [-1.60980200e-01 -1.76281740e-07]\n",
      " [-1.63421600e-01 -1.79431160e-07]\n",
      " [-1.65863000e-01 -1.80352760e-07]\n",
      " [-1.68304400e-01 -1.85345460e-07]\n",
      " [-1.70745800e-01 -1.84747320e-07]\n",
      " [-1.73187300e-01 -1.91137720e-07]\n",
      " [-1.75628700e-01 -1.91198720e-07]\n",
      " [-1.78070100e-01 -1.96795640e-07]\n",
      " [-1.80511500e-01 -1.98541260e-07]\n",
      " [-1.82952900e-01 -2.01074200e-07]\n",
      " [-1.85394300e-01 -2.05255120e-07]\n",
      " [-1.87835700e-01 -2.07403560e-07]\n",
      " [-1.90277100e-01 -2.13519280e-07]\n",
      " [-1.92718500e-01 -2.14514160e-07]\n",
      " [-1.95159900e-01 -2.21960440e-07]\n",
      " [-1.97601300e-01 -2.23828120e-07]]\n",
      "0.2003479\n"
     ]
    }
   ],
   "source": [
    "datam=np.mean(np.array(data),axis=0)\n",
    "print(datam)\n",
    "print(np.max(datam[:,0]))\n",
    "#print(datam[:,1])"
   ]
  },
  {
   "cell_type": "code",
   "execution_count": 8,
   "metadata": {},
   "outputs": [],
   "source": [
    "def linear_fit(x):\n",
    "    return (1.09582520e-07*1e6+1.94598380e-08*1e6)/(0.2003479+8.52966300e-02)*x+0.019073643683172922"
   ]
  },
  {
   "cell_type": "code",
   "execution_count": 10,
   "metadata": {},
   "outputs": [],
   "source": [
    "def linear_fit2(x):\n",
    "    return (2.20336916e-09*1e6+1.50646960e-07*1e6)/(1.10015900e-01+1.31683300e-01)*x-0.06737057451806615"
   ]
  },
  {
   "cell_type": "code",
   "execution_count": 13,
   "metadata": {},
   "outputs": [
    {
     "data": {
      "image/png": "[encoded data removed]",
      "text/plain": [
       "<Figure size 432x288 with 1 Axes>"
      ]
     },
     "metadata": {
      "needs_background": "light"
     },
     "output_type": "display_data"
    }
   ],
   "source": [
    "#plt.figure(figsize=(12,12))#plt.figure(figsize=(12,12))\n",
    "plt.plot(datam.T[0],datam.T[1]*1e6,label='averaged measurement data')\n",
    "plt.plot([-8.52966300e-02,0.2003479],[-1.94598380e-08*1e6,1.09582520e-07*1e6],label='upper linear fit')\n",
    "#plt.plot(fitrange,wertelist,label='upper linear fit')\n",
    "plt.plot([-1.31683300e-01,1.10015900e-01],[-1.50646960e-07*1e6,2.20336916e-09*1e6],label='lower linear fit')\n",
    "plt.xlabel(\"U in [V]\",fontsize=16)\n",
    "plt.ylabel(\"I in [µA]\",fontsize=16)\n",
    "plt.grid()\n",
    "#plt.ylim(-0.9,0.6)\n",
    "#plt.xlim(-0.25,0.25)\n",
    "plt.legend(loc=\"lower right\",fontsize=12)\n",
    "plt.savefig('cycvol.pdf',bbox_inches=\"tight\",pad_inches=0.05)\n",
    "plt.show()"
   ]
  },
  {
   "cell_type": "markdown",
   "metadata": {},
   "source": [
    "### some calculation for enclosed areas between averaged measurement data and linear fits"
   ]
  },
  {
   "cell_type": "code",
   "execution_count": 14,
   "metadata": {},
   "outputs": [],
   "source": [
    "dxes=[]\n",
    "for i in np.arange(47,164,1):\n",
    "    dxes.append(datam.T[0][i+1]-datam.T[0][i])"
   ]
  },
  {
   "cell_type": "code",
   "execution_count": 15,
   "metadata": {},
   "outputs": [
    {
     "data": {
      "text/plain": [
       "0.002441406239316239"
      ]
     },
     "execution_count": 15,
     "metadata": {},
     "output_type": "execute_result"
    }
   ],
   "source": [
    "np.sum(dxes)/len(dxes)"
   ]
  },
  {
   "cell_type": "code",
   "execution_count": 16,
   "metadata": {},
   "outputs": [],
   "source": [
    "y_upper=[]\n",
    "for i in np.arange(48,163,1):\n",
    "    y_upper.append(abs(datam.T[1][i]-linear_fit(datam.T[0][i])))"
   ]
  },
  {
   "cell_type": "code",
   "execution_count": 17,
   "metadata": {},
   "outputs": [
    {
     "name": "stdout",
     "output_type": "stream",
     "text": [
      "area = 0.013134540765884639\n"
     ]
    }
   ],
   "source": [
    "area_upper = trapz(y_upper, dx=0.002441410000000005)\n",
    "print(\"area =\", area_upper)"
   ]
  },
  {
   "cell_type": "code",
   "execution_count": 18,
   "metadata": {},
   "outputs": [],
   "source": [
    "dxes2=[]\n",
    "for i in np.arange(201,300,1):\n",
    "    dxes2.append(datam.T[0][i+1]-datam.T[0][i])"
   ]
  },
  {
   "cell_type": "code",
   "execution_count": 19,
   "metadata": {},
   "outputs": [
    {
     "data": {
      "text/plain": [
       "0.002441406060606061"
      ]
     },
     "execution_count": 19,
     "metadata": {},
     "output_type": "execute_result"
    }
   ],
   "source": [
    "abs(np.sum(dxes2)/len(dxes2))"
   ]
  },
  {
   "cell_type": "code",
   "execution_count": 20,
   "metadata": {},
   "outputs": [],
   "source": [
    "y_lower=[]\n",
    "for i in np.arange(202,299,1):\n",
    "    y_lower.append(abs(datam.T[1][i]-linear_fit2(datam.T[0][i])))"
   ]
  },
  {
   "cell_type": "code",
   "execution_count": 21,
   "metadata": {},
   "outputs": [
    {
     "name": "stdout",
     "output_type": "stream",
     "text": [
      "area = 0.017216352082059575\n"
     ]
    }
   ],
   "source": [
    "area_lower = trapz(y_lower, dx=0.0024413999999999825)\n",
    "print(\"area =\", area_lower)"
   ]
  },
  {
   "cell_type": "code",
   "execution_count": 26,
   "metadata": {},
   "outputs": [
    {
     "name": "stdout",
     "output_type": "stream",
     "text": [
      "1.0745601774928627e+17\n"
     ]
    }
   ],
   "source": [
    "lo=area_lower/(1.602176634*10**(-19))\n",
    "print(lo)"
   ]
  },
  {
   "cell_type": "code",
   "execution_count": 27,
   "metadata": {},
   "outputs": [
    {
     "name": "stdout",
     "output_type": "stream",
     "text": [
      "8.197935537914378e+16\n"
     ]
    }
   ],
   "source": [
    "up=area_upper/(1.602176634*10**(-19))\n",
    "print(up)"
   ]
  },
  {
   "cell_type": "code",
   "execution_count": 24,
   "metadata": {},
   "outputs": [],
   "source": [
    "middle=(lo+up)/2"
   ]
  },
  {
   "cell_type": "code",
   "execution_count": 25,
   "metadata": {},
   "outputs": [
    {
     "name": "stdout",
     "output_type": "stream",
     "text": [
      "9.471768656421502e+16\n"
     ]
    }
   ],
   "source": [
    "print(middle)"
   ]
  }
 ],
 "metadata": {
  "kernelspec": {
   "display_name": "Python 3.8.10 64-bit",
   "language": "python",
   "name": "python3"
  },
  "language_info": {
   "codemirror_mode": {
    "name": "ipython",
    "version": 3
   },
   "file_extension": ".py",
   "mimetype": "text/x-python",
   "name": "python",
   "nbconvert_exporter": "python",
   "pygments_lexer": "ipython3",
   "version": "3.8.10"
  },
  "vscode": {
   "interpreter": {
    "hash": "916dbcbb3f70747c44a77c7bcd40155683ae19c65e1c03b4aa3499c5328201f1"
   }
  }
 },
 "nbformat": 4,
 "nbformat_minor": 1
}
